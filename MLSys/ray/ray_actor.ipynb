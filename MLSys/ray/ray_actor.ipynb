{
 "cells": [
  {
   "cell_type": "code",
   "execution_count": 1,
   "id": "4d991dc4-2f08-4d38-ad14-8004a603f2e0",
   "metadata": {},
   "outputs": [],
   "source": [
    "import ray\n"
   ]
  },
  {
   "cell_type": "code",
   "execution_count": 13,
   "id": "78169f9b-7950-4a4a-8d7b-3c18941d88b6",
   "metadata": {},
   "outputs": [],
   "source": [
    "class MyAct:\n",
    "    def __init__(self):\n",
    "        print(\"init---\")\n",
    "        self.val=0\n",
    "    def exec(self,msg=''):\n",
    "        self.val+=1\n",
    "        print(msg)\n",
    "        print(\"self.val=\" ,self.val)\n",
    "        return self.val"
   ]
  },
  {
   "cell_type": "code",
   "execution_count": 14,
   "id": "8f5453e2-4919-4fcc-8bbb-84debde2a9cd",
   "metadata": {},
   "outputs": [],
   "source": [
    "runner_cls=ray.remote(MyAct)"
   ]
  },
  {
   "cell_type": "code",
   "execution_count": 15,
   "id": "7e80cfa7-713b-425f-a6af-c61c8d082264",
   "metadata": {},
   "outputs": [],
   "source": [
    "runner=runner_cls.remote()"
   ]
  },
  {
   "cell_type": "code",
   "execution_count": 16,
   "id": "395b36e8-3707-412e-8411-3dcce210240b",
   "metadata": {},
   "outputs": [],
   "source": [
    "obj_ref=runner.exec.remote()"
   ]
  },
  {
   "cell_type": "code",
   "execution_count": 17,
   "id": "707e64c3-4b08-4ed8-b684-b81281fcd442",
   "metadata": {},
   "outputs": [
    {
     "data": {
      "text/plain": [
       "1"
      ]
     },
     "execution_count": 17,
     "metadata": {},
     "output_type": "execute_result"
    },
    {
     "name": "stdout",
     "output_type": "stream",
     "text": [
      "\u001b[2m\u001b[36m(MyAct pid=3519323)\u001b[0m init---\n",
      "\u001b[2m\u001b[36m(MyAct pid=3519323)\u001b[0m \n",
      "\u001b[2m\u001b[36m(MyAct pid=3519323)\u001b[0m self.val= 1\n"
     ]
    }
   ],
   "source": [
    "ray.get(obj_ref)"
   ]
  },
  {
   "cell_type": "code",
   "execution_count": 21,
   "id": "e01f6dac-7122-489d-83f7-81f5752401c1",
   "metadata": {},
   "outputs": [],
   "source": [
    "runner_cls2=ray.remote(num_cpus=100)(MyAct)"
   ]
  },
  {
   "cell_type": "code",
   "execution_count": 20,
   "id": "3f6fcbad-cf56-436d-a7bd-8419d27d5701",
   "metadata": {},
   "outputs": [
    {
     "name": "stdout",
     "output_type": "stream",
     "text": [
      "{'CPU': 96.0, 'object_store_memory': 200000000000.0, 'memory': 598110886912.0, 'node:10.140.0.76': 1.0}\n"
     ]
    }
   ],
   "source": [
    "print(ray.available_resources())"
   ]
  },
  {
   "cell_type": "code",
   "execution_count": 23,
   "id": "ee3dd91b-1311-40e1-b32b-b6c67d6b34ec",
   "metadata": {},
   "outputs": [
    {
     "name": "stdout",
     "output_type": "stream",
     "text": [
      "\u001b[2m\u001b[36m(MyAct pid=3573045)\u001b[0m init---\n"
     ]
    }
   ],
   "source": [
    "named_runner = runner_cls.options(name=\"myAct_runner\").remote()"
   ]
  },
  {
   "cell_type": "code",
   "execution_count": 24,
   "id": "08de8fea-30d9-459d-a0d5-673bf87b88a0",
   "metadata": {},
   "outputs": [
    {
     "data": {
      "text/plain": [
       "ObjectRef(82891771158d68c143f4267225ec32c30a428d3b0100000001000000)"
      ]
     },
     "execution_count": 24,
     "metadata": {},
     "output_type": "execute_result"
    },
    {
     "name": "stdout",
     "output_type": "stream",
     "text": [
      "\u001b[2m\u001b[36m(MyAct pid=3573045)\u001b[0m \n",
      "\u001b[2m\u001b[36m(MyAct pid=3573045)\u001b[0m self.val= 1\n"
     ]
    }
   ],
   "source": [
    "named_runner.exec.remote()\n"
   ]
  },
  {
   "cell_type": "code",
   "execution_count": 25,
   "id": "87f837c3-b903-4d5e-90ef-ec2157c0fdef",
   "metadata": {},
   "outputs": [],
   "source": [
    "get_by_name=ray.get_actor(\"myAct_runner\")"
   ]
  },
  {
   "cell_type": "code",
   "execution_count": 26,
   "id": "021258ad-3b1b-4aee-9e9b-6853fffe92a6",
   "metadata": {},
   "outputs": [
    {
     "name": "stdout",
     "output_type": "stream",
     "text": [
      "\u001b[2m\u001b[36m(MyAct pid=3573045)\u001b[0m \n",
      "\u001b[2m\u001b[36m(MyAct pid=3573045)\u001b[0m self.val= 2\n"
     ]
    },
    {
     "data": {
      "text/plain": [
       "ObjectRef(8849b62d89cb30f943f4267225ec32c30a428d3b0100000001000000)"
      ]
     },
     "execution_count": 26,
     "metadata": {},
     "output_type": "execute_result"
    }
   ],
   "source": [
    "get_by_name.exec.remote()"
   ]
  },
  {
   "cell_type": "code",
   "execution_count": null,
   "id": "0fe2f699-347f-4ee8-ab83-b63a02f78822",
   "metadata": {},
   "outputs": [],
   "source": []
  }
 ],
 "metadata": {
  "kernelspec": {
   "display_name": "Python 3 (ipykernel)",
   "language": "python",
   "name": "python3"
  },
  "language_info": {
   "codemirror_mode": {
    "name": "ipython",
    "version": 3
   },
   "file_extension": ".py",
   "mimetype": "text/x-python",
   "name": "python",
   "nbconvert_exporter": "python",
   "pygments_lexer": "ipython3",
   "version": "3.9.13"
  }
 },
 "nbformat": 4,
 "nbformat_minor": 5
}
